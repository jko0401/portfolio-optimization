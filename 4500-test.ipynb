{
 "cells": [
  {
   "cell_type": "code",
   "execution_count": 17,
   "metadata": {},
   "outputs": [],
   "source": [
    "import pickle\n",
    "import numpy as np\n",
    "import matplotlib.pyplot as plt\n",
    "from pypfopt import plotting\n",
    "import itertools\n",
    "from pypfopt.expected_returns import mean_historical_return\n",
    "from pypfopt.risk_models import CovarianceShrinkage\n",
    "from pypfopt.efficient_frontier import EfficientFrontier\n",
    "\n",
    "#total number of stocks is 2234 (all stock have been filtered)\n",
    "\n",
    "def get_returns(number_of_stocks):\n",
    "    with open('filtered_stocks.bin', 'rb') as f:\n",
    "        data = pickle.load(f)\n",
    "    prices = data[:,:number_of_stocks]\n",
    "    returns = (np.diff(prices, axis = 0) / prices[:-1,:]) / 2\n",
    "    number_of_stocks = np.arange(number_of_stocks)\n",
    "    results = itertools.combinations(number_of_stocks,2)\n",
    "    combos = np.array(list(results))\n",
    "    pairs_ret = np.zeros((2770 - 1002, len(combos)))\n",
    "    print(pairs_ret.shape)\n",
    "    for i, combo in enumerate(combos):\n",
    "        pairs_ret[:,i] = np.array(returns[:,combo[0]] - returns[:,combo[1]])\n",
    "    \n",
    "    column_means = np.mean(pairs_ret, axis = 0)\n",
    "    matrix_column_means = np.tile(column_means, (len(pairs_ret),1))\n",
    "\n",
    "    # pairs_ret_minus_column_means = pairs_ret - matrix_column_means\n",
    "    # return pairs_ret_minus_column_means, column_means\n",
    "    return pairs_ret, column_means"
   ]
  },
  {
   "cell_type": "code",
   "execution_count": 18,
   "metadata": {},
   "outputs": [
    {
     "name": "stdout",
     "output_type": "stream",
     "text": [
      "(1768, 190)\n"
     ]
    }
   ],
   "source": [
    "S, mu = get_returns(20)\n",
    "returns = np.cov(S.T)\n"
   ]
  },
  {
   "cell_type": "code",
   "execution_count": 25,
   "metadata": {},
   "outputs": [
    {
     "data": {
      "text/plain": [
       "<AxesSubplot:xlabel='Volatility', ylabel='Return'>"
      ]
     },
     "execution_count": 25,
     "metadata": {},
     "output_type": "execute_result"
    },
    {
     "data": {
      "image/png": "[encoded data removed]",
      "text/plain": [
       "<Figure size 432x288 with 1 Axes>"
      ]
     },
     "metadata": {
      "needs_background": "light"
     },
     "output_type": "display_data"
    }
   ],
   "source": [
    "ef = EfficientFrontier(mu, returns)\n",
    "fig, ax = plt.subplots()\n",
    "plotting.plot_efficient_frontier(ef, ax=ax, show_assets=False)"
   ]
  },
  {
   "cell_type": "code",
   "execution_count": null,
   "metadata": {},
   "outputs": [
    {
     "data": {
      "text/plain": [
       "(1768, 1768)"
      ]
     },
     "execution_count": 15,
     "metadata": {},
     "output_type": "execute_result"
    }
   ],
   "source": [
    "S.shape\n"
   ]
  },
  {
   "cell_type": "code",
   "execution_count": 16,
   "metadata": {},
   "outputs": [
    {
     "data": {
      "text/plain": [
       "(190,)"
      ]
     },
     "execution_count": 16,
     "metadata": {},
     "output_type": "execute_result"
    }
   ],
   "source": [
    "mu.shape"
   ]
  },
  {
   "cell_type": "code",
   "execution_count": null,
   "metadata": {},
   "outputs": [],
   "source": []
  }
 ],
 "metadata": {
  "interpreter": {
   "hash": "f541339c717184d843c9953eed5dedd8f53a2d0118452524ea07f41e2ccc334c"
  },
  "kernelspec": {
   "display_name": "Python 3.8.8 64-bit ('base': conda)",
   "language": "python",
   "name": "python3"
  },
  "language_info": {
   "codemirror_mode": {
    "name": "ipython",
    "version": 3
   },
   "file_extension": ".py",
   "mimetype": "text/x-python",
   "name": "python",
   "nbconvert_exporter": "python",
   "pygments_lexer": "ipython3",
   "version": "3.8.8"
  },
  "orig_nbformat": 4
 },
 "nbformat": 4,
 "nbformat_minor": 2
}
