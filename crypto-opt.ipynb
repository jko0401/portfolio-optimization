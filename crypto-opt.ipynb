{
 "cells": [
  {
   "cell_type": "code",
   "execution_count": 2,
   "metadata": {},
   "outputs": [
    {
     "name": "stdout",
     "output_type": "stream",
     "text": [
      "[*********************100%***********************]  8 of 8 completed\n"
     ]
    }
   ],
   "source": [
    "import pandas as pd\n",
    "import yfinance as yf\n",
    "import matplotlib.pyplot as plt \n",
    "from pypfopt import plotting\n",
    "from pypfopt.expected_returns import mean_historical_return\n",
    "from pypfopt.risk_models import CovarianceShrinkage\n",
    "from pypfopt.efficient_frontier import EfficientFrontier\n",
    "assets = ['BTC-USD', 'ETH-USD', 'ADA-USD', 'LINK-USD', 'AVAX-USD', 'DOT-USD', 'CRO-USD', 'LRC-USD']\n",
    "\n",
    "df =yf.download(assets, start=\"2019-01-01\", end=\"2021-12-31\", group_by = 'ticker')\n"
   ]
  },
  {
   "cell_type": "code",
   "execution_count": 3,
   "metadata": {},
   "outputs": [
    {
     "data": {
      "text/html": [
       "<div>\n",
       "<style scoped>\n",
       "    .dataframe tbody tr th:only-of-type {\n",
       "        vertical-align: middle;\n",
       "    }\n",
       "\n",
       "    .dataframe tbody tr th {\n",
       "        vertical-align: top;\n",
       "    }\n",
       "\n",
       "    .dataframe thead th {\n",
       "        text-align: right;\n",
       "    }\n",
       "</style>\n",
       "<table border=\"1\" class=\"dataframe\">\n",
       "  <thead>\n",
       "    <tr style=\"text-align: right;\">\n",
       "      <th></th>\n",
       "      <th>BTC-USD</th>\n",
       "      <th>ETH-USD</th>\n",
       "      <th>ADA-USD</th>\n",
       "      <th>LINK-USD</th>\n",
       "      <th>AVAX-USD</th>\n",
       "      <th>DOT-USD</th>\n",
       "      <th>CRO-USD</th>\n",
       "      <th>LRC-USD</th>\n",
       "    </tr>\n",
       "    <tr>\n",
       "      <th>Date</th>\n",
       "      <th></th>\n",
       "      <th></th>\n",
       "      <th></th>\n",
       "      <th></th>\n",
       "      <th></th>\n",
       "      <th></th>\n",
       "      <th></th>\n",
       "      <th></th>\n",
       "    </tr>\n",
       "  </thead>\n",
       "  <tbody>\n",
       "    <tr>\n",
       "      <th>2021-12-26</th>\n",
       "      <td>50809.515625</td>\n",
       "      <td>4067.328125</td>\n",
       "      <td>1.456045</td>\n",
       "      <td>23.009712</td>\n",
       "      <td>115.214828</td>\n",
       "      <td>31.332836</td>\n",
       "      <td>0.625890</td>\n",
       "      <td>2.351591</td>\n",
       "    </tr>\n",
       "    <tr>\n",
       "      <th>2021-12-27</th>\n",
       "      <td>50640.417969</td>\n",
       "      <td>4037.547607</td>\n",
       "      <td>1.512913</td>\n",
       "      <td>22.982037</td>\n",
       "      <td>113.598618</td>\n",
       "      <td>30.908672</td>\n",
       "      <td>0.624088</td>\n",
       "      <td>2.258802</td>\n",
       "    </tr>\n",
       "    <tr>\n",
       "      <th>2021-12-28</th>\n",
       "      <td>47588.855469</td>\n",
       "      <td>3800.893066</td>\n",
       "      <td>1.402264</td>\n",
       "      <td>20.391455</td>\n",
       "      <td>107.215614</td>\n",
       "      <td>27.907103</td>\n",
       "      <td>0.566971</td>\n",
       "      <td>2.058290</td>\n",
       "    </tr>\n",
       "    <tr>\n",
       "      <th>2021-12-29</th>\n",
       "      <td>46444.710938</td>\n",
       "      <td>3628.531738</td>\n",
       "      <td>1.330814</td>\n",
       "      <td>19.702854</td>\n",
       "      <td>102.998123</td>\n",
       "      <td>26.744373</td>\n",
       "      <td>0.546568</td>\n",
       "      <td>1.964071</td>\n",
       "    </tr>\n",
       "    <tr>\n",
       "      <th>2021-12-30</th>\n",
       "      <td>47178.125000</td>\n",
       "      <td>3713.852051</td>\n",
       "      <td>1.360415</td>\n",
       "      <td>19.970343</td>\n",
       "      <td>101.928276</td>\n",
       "      <td>27.567789</td>\n",
       "      <td>0.553711</td>\n",
       "      <td>1.997073</td>\n",
       "    </tr>\n",
       "  </tbody>\n",
       "</table>\n",
       "</div>"
      ],
      "text/plain": [
       "                 BTC-USD      ETH-USD   ADA-USD   LINK-USD    AVAX-USD  \\\n",
       "Date                                                                     \n",
       "2021-12-26  50809.515625  4067.328125  1.456045  23.009712  115.214828   \n",
       "2021-12-27  50640.417969  4037.547607  1.512913  22.982037  113.598618   \n",
       "2021-12-28  47588.855469  3800.893066  1.402264  20.391455  107.215614   \n",
       "2021-12-29  46444.710938  3628.531738  1.330814  19.702854  102.998123   \n",
       "2021-12-30  47178.125000  3713.852051  1.360415  19.970343  101.928276   \n",
       "\n",
       "              DOT-USD   CRO-USD   LRC-USD  \n",
       "Date                                       \n",
       "2021-12-26  31.332836  0.625890  2.351591  \n",
       "2021-12-27  30.908672  0.624088  2.258802  \n",
       "2021-12-28  27.907103  0.566971  2.058290  \n",
       "2021-12-29  26.744373  0.546568  1.964071  \n",
       "2021-12-30  27.567789  0.553711  1.997073  "
      ]
     },
     "execution_count": 3,
     "metadata": {},
     "output_type": "execute_result"
    }
   ],
   "source": [
    "close = pd.DataFrame()\n",
    "for t in assets:\n",
    "    close[t] = df[t, 'Close']\n",
    "\n",
    "close.tail()"
   ]
  },
  {
   "cell_type": "code",
   "execution_count": 4,
   "metadata": {},
   "outputs": [
    {
     "data": {
      "text/html": [
       "<div>\n",
       "<style scoped>\n",
       "    .dataframe tbody tr th:only-of-type {\n",
       "        vertical-align: middle;\n",
       "    }\n",
       "\n",
       "    .dataframe tbody tr th {\n",
       "        vertical-align: top;\n",
       "    }\n",
       "\n",
       "    .dataframe thead th {\n",
       "        text-align: right;\n",
       "    }\n",
       "</style>\n",
       "<table border=\"1\" class=\"dataframe\">\n",
       "  <thead>\n",
       "    <tr style=\"text-align: right;\">\n",
       "      <th></th>\n",
       "      <th>BTC-USD</th>\n",
       "      <th>ETH-USD</th>\n",
       "      <th>ADA-USD</th>\n",
       "      <th>LINK-USD</th>\n",
       "      <th>AVAX-USD</th>\n",
       "      <th>DOT-USD</th>\n",
       "      <th>CRO-USD</th>\n",
       "      <th>LRC-USD</th>\n",
       "    </tr>\n",
       "    <tr>\n",
       "      <th>Date</th>\n",
       "      <th></th>\n",
       "      <th></th>\n",
       "      <th></th>\n",
       "      <th></th>\n",
       "      <th></th>\n",
       "      <th></th>\n",
       "      <th></th>\n",
       "      <th></th>\n",
       "    </tr>\n",
       "  </thead>\n",
       "  <tbody>\n",
       "    <tr>\n",
       "      <th>2020-09-23</th>\n",
       "      <td>10246.186523</td>\n",
       "      <td>321.116302</td>\n",
       "      <td>0.076763</td>\n",
       "      <td>7.702259</td>\n",
       "      <td>4.118469</td>\n",
       "      <td>4.031415</td>\n",
       "      <td>0.147678</td>\n",
       "      <td>0.212135</td>\n",
       "    </tr>\n",
       "    <tr>\n",
       "      <th>2020-09-24</th>\n",
       "      <td>10760.066406</td>\n",
       "      <td>349.355591</td>\n",
       "      <td>0.082817</td>\n",
       "      <td>9.817477</td>\n",
       "      <td>4.566561</td>\n",
       "      <td>4.381973</td>\n",
       "      <td>0.154740</td>\n",
       "      <td>0.222902</td>\n",
       "    </tr>\n",
       "    <tr>\n",
       "      <th>2020-09-25</th>\n",
       "      <td>10692.716797</td>\n",
       "      <td>352.183258</td>\n",
       "      <td>0.096845</td>\n",
       "      <td>10.711364</td>\n",
       "      <td>4.712279</td>\n",
       "      <td>4.420954</td>\n",
       "      <td>0.154029</td>\n",
       "      <td>0.222690</td>\n",
       "    </tr>\n",
       "    <tr>\n",
       "      <th>2020-09-26</th>\n",
       "      <td>10750.723633</td>\n",
       "      <td>355.488098</td>\n",
       "      <td>0.095564</td>\n",
       "      <td>10.341659</td>\n",
       "      <td>4.539249</td>\n",
       "      <td>4.347662</td>\n",
       "      <td>0.154400</td>\n",
       "      <td>0.225680</td>\n",
       "    </tr>\n",
       "    <tr>\n",
       "      <th>2020-09-27</th>\n",
       "      <td>10775.269531</td>\n",
       "      <td>357.438507</td>\n",
       "      <td>0.101287</td>\n",
       "      <td>10.769080</td>\n",
       "      <td>4.625536</td>\n",
       "      <td>4.310281</td>\n",
       "      <td>0.154591</td>\n",
       "      <td>0.206521</td>\n",
       "    </tr>\n",
       "  </tbody>\n",
       "</table>\n",
       "</div>"
      ],
      "text/plain": [
       "                 BTC-USD     ETH-USD   ADA-USD   LINK-USD  AVAX-USD   DOT-USD  \\\n",
       "Date                                                                            \n",
       "2020-09-23  10246.186523  321.116302  0.076763   7.702259  4.118469  4.031415   \n",
       "2020-09-24  10760.066406  349.355591  0.082817   9.817477  4.566561  4.381973   \n",
       "2020-09-25  10692.716797  352.183258  0.096845  10.711364  4.712279  4.420954   \n",
       "2020-09-26  10750.723633  355.488098  0.095564  10.341659  4.539249  4.347662   \n",
       "2020-09-27  10775.269531  357.438507  0.101287  10.769080  4.625536  4.310281   \n",
       "\n",
       "             CRO-USD   LRC-USD  \n",
       "Date                            \n",
       "2020-09-23  0.147678  0.212135  \n",
       "2020-09-24  0.154740  0.222902  \n",
       "2020-09-25  0.154029  0.222690  \n",
       "2020-09-26  0.154400  0.225680  \n",
       "2020-09-27  0.154591  0.206521  "
      ]
     },
     "execution_count": 4,
     "metadata": {},
     "output_type": "execute_result"
    }
   ],
   "source": [
    "filtered = close[close.index>= '2020-09-23']\n",
    "filtered.head()"
   ]
  },
  {
   "cell_type": "code",
   "execution_count": 5,
   "metadata": {},
   "outputs": [],
   "source": [
    "mu = mean_historical_return(filtered)\n",
    "S = CovarianceShrinkage(filtered).ledoit_wolf()"
   ]
  },
  {
   "cell_type": "code",
   "execution_count": 18,
   "metadata": {},
   "outputs": [],
   "source": [
    "ef = EfficientFrontier(mu, S, weight_bounds=(0,1))\n",
    "ef_copy = EfficientFrontier(mu, S, weight_bounds=(0,1))\n"
   ]
  },
  {
   "cell_type": "code",
   "execution_count": 19,
   "metadata": {},
   "outputs": [
    {
     "data": {
      "text/plain": [
       "<AxesSubplot:xlabel='Volatility', ylabel='Return'>"
      ]
     },
     "execution_count": 19,
     "metadata": {},
     "output_type": "execute_result"
    },
    {
     "data": {
      "image/png": "[encoded data removed]",
      "text/plain": [
       "<Figure size 432x288 with 1 Axes>"
      ]
     },
     "metadata": {
      "needs_background": "light"
     },
     "output_type": "display_data"
    }
   ],
   "source": [
    "fig, ax = plt.subplots()\n",
    "plotting.plot_efficient_frontier(ef, ax=ax, show_assets=False)"
   ]
  },
  {
   "cell_type": "code",
   "execution_count": 20,
   "metadata": {},
   "outputs": [
    {
     "name": "stdout",
     "output_type": "stream",
     "text": [
      "OrderedDict([('BTC-USD', 0.0), ('ETH-USD', 0.37894), ('ADA-USD', 0.36621), ('LINK-USD', 0.0), ('AVAX-USD', 0.25484), ('DOT-USD', 0.0), ('CRO-USD', 0.0), ('LRC-USD', 0.0)])\n"
     ]
    }
   ],
   "source": [
    "weights = ef_copy.max_sharpe()\n",
    "cleaned_weights = ef_copy.clean_weights()\n",
    "print(cleaned_weights)"
   ]
  },
  {
   "cell_type": "code",
   "execution_count": 21,
   "metadata": {},
   "outputs": [
    {
     "name": "stdout",
     "output_type": "stream",
     "text": [
      "Expected annual return: 473.4%\n",
      "Annual volatility: 142.5%\n",
      "Sharpe Ratio: 3.31\n"
     ]
    },
    {
     "data": {
      "text/plain": [
       "(4.734211424616295, 1.4245336675696452, 3.309301515252407)"
      ]
     },
     "execution_count": 21,
     "metadata": {},
     "output_type": "execute_result"
    }
   ],
   "source": [
    "ef.portfolio_performance(verbose=True)"
   ]
  },
  {
   "cell_type": "code",
   "execution_count": 22,
   "metadata": {},
   "outputs": [
    {
     "name": "stdout",
     "output_type": "stream",
     "text": [
      "{'ETH-USD': 2, 'ADA-USD': 5384, 'AVAX-USD': 51}\n"
     ]
    }
   ],
   "source": [
    "from pypfopt.discrete_allocation import DiscreteAllocation, get_latest_prices\n",
    "\n",
    "latest_prices = get_latest_prices(filtered)\n",
    "da = DiscreteAllocation(weights, latest_prices, total_portfolio_value=20000)\n",
    "allocation, leftover = da.lp_portfolio()\n",
    "print(allocation)"
   ]
  },
  {
   "cell_type": "code",
   "execution_count": null,
   "metadata": {},
   "outputs": [],
   "source": []
  }
 ],
 "metadata": {
  "interpreter": {
   "hash": "f541339c717184d843c9953eed5dedd8f53a2d0118452524ea07f41e2ccc334c"
  },
  "kernelspec": {
   "display_name": "Python 3.8.8 64-bit ('base': conda)",
   "language": "python",
   "name": "python3"
  },
  "language_info": {
   "codemirror_mode": {
    "name": "ipython",
    "version": 3
   },
   "file_extension": ".py",
   "mimetype": "text/x-python",
   "name": "python",
   "nbconvert_exporter": "python",
   "pygments_lexer": "ipython3",
   "version": "3.8.8"
  },
  "orig_nbformat": 4
 },
 "nbformat": 4,
 "nbformat_minor": 2
}
